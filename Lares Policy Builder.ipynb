{
 "cells": [
  {
   "cell_type": "code",
   "execution_count": 1,
   "metadata": {},
   "outputs": [
    {
     "ename": "ModuleNotFoundError",
     "evalue": "No module named 'docx'",
     "output_type": "error",
     "traceback": [
      "\u001b[1;31m---------------------------------------------------------------------------\u001b[0m",
      "\u001b[1;31mModuleNotFoundError\u001b[0m                       Traceback (most recent call last)",
      "\u001b[1;32m~\\AppData\\Local\\Temp\\ipykernel_12672\\926252477.py\u001b[0m in \u001b[0;36m<module>\u001b[1;34m\u001b[0m\n\u001b[1;32m----> 1\u001b[1;33m \u001b[1;32mfrom\u001b[0m \u001b[0mdocx\u001b[0m \u001b[1;32mimport\u001b[0m \u001b[0mDocument\u001b[0m \u001b[1;31m#python-docx\u001b[0m\u001b[1;33m\u001b[0m\u001b[1;33m\u001b[0m\u001b[0m\n\u001b[0m\u001b[0;32m      2\u001b[0m \u001b[1;32mfrom\u001b[0m \u001b[0mdocx\u001b[0m\u001b[1;33m.\u001b[0m\u001b[0mshared\u001b[0m \u001b[1;32mimport\u001b[0m \u001b[0mPt\u001b[0m\u001b[1;33m\u001b[0m\u001b[1;33m\u001b[0m\u001b[0m\n\u001b[0;32m      3\u001b[0m \u001b[1;32mfrom\u001b[0m \u001b[0mdocx\u001b[0m\u001b[1;33m.\u001b[0m\u001b[0mshared\u001b[0m \u001b[1;32mimport\u001b[0m \u001b[0mInches\u001b[0m\u001b[1;33m\u001b[0m\u001b[1;33m\u001b[0m\u001b[0m\n\u001b[0;32m      4\u001b[0m \u001b[1;32mfrom\u001b[0m \u001b[0mdatetime\u001b[0m \u001b[1;32mimport\u001b[0m \u001b[0mdate\u001b[0m\u001b[1;33m\u001b[0m\u001b[1;33m\u001b[0m\u001b[0m\n\u001b[0;32m      5\u001b[0m \u001b[1;32mimport\u001b[0m \u001b[0mglob\u001b[0m\u001b[1;33m\u001b[0m\u001b[1;33m\u001b[0m\u001b[0m\n",
      "\u001b[1;31mModuleNotFoundError\u001b[0m: No module named 'docx'"
     ]
    }
   ],
   "source": [
    "from docx import Document #python-docx\n",
    "from docx.shared import Pt\n",
    "from docx.shared import Inches\n",
    "from datetime import date\n",
    "import glob\n",
    "import os \n",
    "today = date.today()"
   ]
  },
  {
   "cell_type": "markdown",
   "metadata": {},
   "source": [
    "# Customer Information Section -- EDIT"
   ]
  },
  {
   "cell_type": "code",
   "execution_count": 2,
   "metadata": {},
   "outputs": [
    {
     "ename": "NameError",
     "evalue": "name 'today' is not defined",
     "output_type": "error",
     "traceback": [
      "\u001b[1;31m---------------------------------------------------------------------------\u001b[0m",
      "\u001b[1;31mNameError\u001b[0m                                 Traceback (most recent call last)",
      "\u001b[1;32m~\\AppData\\Local\\Temp\\ipykernel_12672\\3471004945.py\u001b[0m in \u001b[0;36m<module>\u001b[1;34m\u001b[0m\n\u001b[0;32m     12\u001b[0m \u001b[0mOther_Name\u001b[0m \u001b[1;33m=\u001b[0m \u001b[1;34m\"E. Smith\"\u001b[0m \u001b[1;31m#The implementer's name\u001b[0m\u001b[1;33m\u001b[0m\u001b[1;33m\u001b[0m\u001b[0m\n\u001b[0;32m     13\u001b[0m \u001b[0mCreation_Date\u001b[0m \u001b[1;33m=\u001b[0m \u001b[1;34m\"February 24, 2021\"\u001b[0m\u001b[1;33m\u001b[0m\u001b[1;33m\u001b[0m\u001b[0m\n\u001b[1;32m---> 14\u001b[1;33m \u001b[0mRevision_Date\u001b[0m \u001b[1;33m=\u001b[0m \u001b[0mtoday\u001b[0m\u001b[1;33m.\u001b[0m\u001b[0mstrftime\u001b[0m\u001b[1;33m(\u001b[0m\u001b[1;34m\"%B %d, %Y\"\u001b[0m\u001b[1;33m)\u001b[0m\u001b[1;33m\u001b[0m\u001b[1;33m\u001b[0m\u001b[0m\n\u001b[0m\u001b[0;32m     15\u001b[0m \u001b[1;31m#Creation_Date = today.strftime(\"%B %d, %Y\") #Change to preferred date if not initial creation\u001b[0m\u001b[1;33m\u001b[0m\u001b[1;33m\u001b[0m\u001b[0m\n\u001b[0;32m     16\u001b[0m \u001b[1;31m#Revision_Date = Creation_Date #Change to current date\u001b[0m\u001b[1;33m\u001b[0m\u001b[1;33m\u001b[0m\u001b[0m\n",
      "\u001b[1;31mNameError\u001b[0m: name 'today' is not defined"
     ]
    }
   ],
   "source": [
    "#### Customer information to fill out ####\n",
    "Author_Name = \"A. Hay\"\n",
    "Revision_Number = \"1\"\n",
    "Company_Name = \"Lares\"\n",
    "Company_Name_Refer = \"company\" #i.e. company, organization, institution\n",
    "Company_Address = \"2311 Champa St, Denver, CO 80205, United States\"\n",
    "Company_Noun = \"Information Security\"\n",
    "logo_filename = \"customer_info/Lares_logo_300x231.png\"\n",
    "Manager = \"CEO\" #The CISO/CSO or top security approver/manager\n",
    "Manager_Name = \"C. Nickerson\" #The \"manager's\" name\n",
    "Other = \"CTO\" #The \"manager\" subordinate or designated implementer of security\n",
    "Other_Name = \"E. Smith\" #The implementer's name\n",
    "Creation_Date = \"February 24, 2021\"\n",
    "Revision_Date = today.strftime(\"%B %d, %Y\")\n",
    "#Creation_Date = today.strftime(\"%B %d, %Y\") #Change to preferred date if not initial creation\n",
    "#Revision_Date = Creation_Date #Change to current date\n",
    "\n",
    "#### \"Policies\" or \"Standards\" ####\n",
    "#filenames_select = \"Policies\""
   ]
  },
  {
   "cell_type": "code",
   "execution_count": null,
   "metadata": {},
   "outputs": [],
   "source": [
    "#define dictionary\n",
    "Dictionary = {\n",
    "    \"[Company]\": Company_Name,\n",
    "    \"[Company_Name_Refer]\": Company_Name_Refer,\n",
    "    \"[Company Address]\": Company_Address,\n",
    "    \"[Company_Noun]\": Company_Noun,\n",
    "    \"[Revision Number]\": Revision_Number,\n",
    "    \"[Author Name]\": Author_Name,\n",
    "    \"[Manager]\": Manager,\n",
    "    \"[Manager Name]\": Manager_Name,\n",
    "    \"[Other]\": Other,\n",
    "    \"[Other Name]\": Other_Name,\n",
    "    \"[Creation Date]\": Creation_Date,\n",
    "    \"[Revision Date]\": Revision_Date\n",
    "}"
   ]
  },
  {
   "cell_type": "markdown",
   "metadata": {},
   "source": [
    "# Core Code"
   ]
  },
  {
   "cell_type": "code",
   "execution_count": 3,
   "metadata": {},
   "outputs": [],
   "source": [
    "def list_program(*doc_list):\n",
    "    #Loop to search and replace text. Save upon completion\n",
    "    run_doc = 0\n",
    "    while run_doc < len(list_filenames):\n",
    "        #open and format the document\n",
    "        doc = Document(list_filenames[run_doc])\n",
    "        section = doc.sections[0]\n",
    "        header = section.header\n",
    "\n",
    "        for i in Dictionary:\n",
    "            for p in doc.paragraphs:\n",
    "                if p.text.find(i)>=0:\n",
    "                    p.text=p.text.replace(i,Dictionary[i])\n",
    "\n",
    "        table = header.tables[0]\n",
    "\n",
    "        table.style.font.size=Pt(8)\n",
    "        table.style.font.name='Arial'\n",
    "\n",
    "        tables = doc.tables\n",
    "        p = table.rows[0].cells[0].add_paragraph()\n",
    "        r = p.add_run()\n",
    "        r.add_picture(logo_filename, width=Inches(1.0)) #Logo\n",
    "\n",
    "        table.cell(0,7).text = Revision_Number\n",
    "        table.cell(1,7).text = Creation_Date\n",
    "        table.cell(2,7).text = Revision_Date\n",
    "        table.cell(4,0).text = Company_Name\n",
    "        table.cell(4,3).text = Author_Name\n",
    "        table.cell(4,4).text = Manager+\":\"\n",
    "        table.cell(4,5).text = Manager_Name\n",
    "        table.cell(4,6).text = Other+\":\"\n",
    "        table.cell(4,7).text = Other_Name\n",
    "\n",
    "        #save document\n",
    "        xdoc = list_filenames[run_doc].split(sep)\n",
    "        doc.save('customer program'+sep+Company_Name+sep+filenames_select+sep+Company_Name+' '+xdoc[2])\n",
    "        run_doc += 1"
   ]
  },
  {
   "cell_type": "code",
   "execution_count": null,
   "metadata": {},
   "outputs": [],
   "source": [
    "def doc_program(prog_doc):\n",
    "    filenames = create_filelist(prog_doc)\n",
    "    #Loop to search and replace text. Save upon completion\n",
    "    run_doc = 0\n",
    "    while run_doc < len(filenames):\n",
    "    #open and format the document\n",
    "        doc = Document(filenames[run_doc])\n",
    "        section = doc.sections[0]\n",
    "        header = section.header\n",
    "\n",
    "        for i in Dictionary:\n",
    "            for p in doc.paragraphs:\n",
    "                if p.text.find(i)>=0:\n",
    "                    p.text=p.text.replace(i,Dictionary[i])\n",
    "\n",
    "        table = header.tables[0]\n",
    "\n",
    "        table.style.font.size=Pt(8)\n",
    "        table.style.font.name='Arial'\n",
    "\n",
    "        tables = doc.tables\n",
    "        p = table.rows[0].cells[0].add_paragraph()\n",
    "        r = p.add_run()\n",
    "        r.add_picture(logo_filename, width=Inches(1.0)) #Logo\n",
    "\n",
    "        table.cell(0,7).text = Revision_Number\n",
    "        table.cell(1,7).text = Creation_Date\n",
    "        table.cell(2,7).text = Revision_Date\n",
    "        table.cell(4,0).text = Company_Name\n",
    "        table.cell(4,3).text = Author_Name\n",
    "        table.cell(4,4).text = Manager+\":\"\n",
    "        table.cell(4,5).text = Manager_Name\n",
    "        table.cell(4,6).text = Other+\":\"\n",
    "        table.cell(4,7).text = Other_Name\n",
    "\n",
    "        #save document\n",
    "        xdoc = filenames[run_doc].split(sep)\n",
    "        doc.save('customer program'+sep+Company_Name+sep+prog_doc+sep+Company_Name+' '+xdoc[2])\n",
    "        run_doc += 1"
   ]
  },
  {
   "cell_type": "code",
   "execution_count": null,
   "metadata": {},
   "outputs": [],
   "source": [
    "sep = os.path.sep\n",
    "def create_filelist(file_list):\n",
    "    if (file_list == \"Policies\") or (file_list == \"Standards\"):\n",
    "        os.makedirs('customer program'+sep+Company_Name+sep+str(file_list), exist_ok=True)\n",
    "        filenames = sorted(glob.glob('sources'+sep+str(file_list)+sep+'*.docx'))\n",
    "        return filenames\n",
    "    else: raise ValueError(\"Input must by Policies or Standards\")"
   ]
  },
  {
   "cell_type": "markdown",
   "metadata": {},
   "source": [
    "# Generate Documents"
   ]
  },
  {
   "cell_type": "markdown",
   "metadata": {},
   "source": [
    "## Generate Individual Documents"
   ]
  },
  {
   "cell_type": "code",
   "execution_count": 4,
   "metadata": {},
   "outputs": [],
   "source": [
    "list_filenames = [\n",
    "    'sources\\\\Policies\\\\Acceptable Use Policy (AUP).docx'\n",
    "]"
   ]
  },
  {
   "cell_type": "code",
   "execution_count": 5,
   "metadata": {},
   "outputs": [
    {
     "ename": "NameError",
     "evalue": "name 'Document' is not defined",
     "output_type": "error",
     "traceback": [
      "\u001b[1;31m---------------------------------------------------------------------------\u001b[0m",
      "\u001b[1;31mNameError\u001b[0m                                 Traceback (most recent call last)",
      "\u001b[1;32m~\\AppData\\Local\\Temp\\ipykernel_12672\\693331761.py\u001b[0m in \u001b[0;36m<module>\u001b[1;34m\u001b[0m\n\u001b[1;32m----> 1\u001b[1;33m \u001b[0mlist_program\u001b[0m\u001b[1;33m(\u001b[0m\u001b[1;33m)\u001b[0m\u001b[1;33m\u001b[0m\u001b[1;33m\u001b[0m\u001b[0m\n\u001b[0m",
      "\u001b[1;32m~\\AppData\\Local\\Temp\\ipykernel_12672\\3183032015.py\u001b[0m in \u001b[0;36mlist_program\u001b[1;34m(*doc_list)\u001b[0m\n\u001b[0;32m      4\u001b[0m     \u001b[1;32mwhile\u001b[0m \u001b[0mrun_doc\u001b[0m \u001b[1;33m<\u001b[0m \u001b[0mlen\u001b[0m\u001b[1;33m(\u001b[0m\u001b[0mlist_filenames\u001b[0m\u001b[1;33m)\u001b[0m\u001b[1;33m:\u001b[0m\u001b[1;33m\u001b[0m\u001b[1;33m\u001b[0m\u001b[0m\n\u001b[0;32m      5\u001b[0m         \u001b[1;31m#open and format the document\u001b[0m\u001b[1;33m\u001b[0m\u001b[1;33m\u001b[0m\u001b[0m\n\u001b[1;32m----> 6\u001b[1;33m         \u001b[0mdoc\u001b[0m \u001b[1;33m=\u001b[0m \u001b[0mDocument\u001b[0m\u001b[1;33m(\u001b[0m\u001b[0mlist_filenames\u001b[0m\u001b[1;33m[\u001b[0m\u001b[0mrun_doc\u001b[0m\u001b[1;33m]\u001b[0m\u001b[1;33m)\u001b[0m\u001b[1;33m\u001b[0m\u001b[1;33m\u001b[0m\u001b[0m\n\u001b[0m\u001b[0;32m      7\u001b[0m         \u001b[0msection\u001b[0m \u001b[1;33m=\u001b[0m \u001b[0mdoc\u001b[0m\u001b[1;33m.\u001b[0m\u001b[0msections\u001b[0m\u001b[1;33m[\u001b[0m\u001b[1;36m0\u001b[0m\u001b[1;33m]\u001b[0m\u001b[1;33m\u001b[0m\u001b[1;33m\u001b[0m\u001b[0m\n\u001b[0;32m      8\u001b[0m         \u001b[0mheader\u001b[0m \u001b[1;33m=\u001b[0m \u001b[0msection\u001b[0m\u001b[1;33m.\u001b[0m\u001b[0mheader\u001b[0m\u001b[1;33m\u001b[0m\u001b[1;33m\u001b[0m\u001b[0m\n",
      "\u001b[1;31mNameError\u001b[0m: name 'Document' is not defined"
     ]
    }
   ],
   "source": [
    "list_program()"
   ]
  },
  {
   "cell_type": "markdown",
   "metadata": {},
   "source": [
    "## Generate Full Program"
   ]
  },
  {
   "cell_type": "code",
   "execution_count": 1,
   "metadata": {},
   "outputs": [
    {
     "ename": "NameError",
     "evalue": "name 'doc_program' is not defined",
     "output_type": "error",
     "traceback": [
      "\u001b[1;31m---------------------------------------------------------------------------\u001b[0m",
      "\u001b[1;31mNameError\u001b[0m                                 Traceback (most recent call last)",
      "\u001b[1;32m~\\AppData\\Local\\Temp\\ipykernel_9740\\3261060281.py\u001b[0m in \u001b[0;36m<module>\u001b[1;34m\u001b[0m\n\u001b[1;32m----> 1\u001b[1;33m \u001b[0mdoc_program\u001b[0m\u001b[1;33m(\u001b[0m\u001b[1;34m\"Policies\"\u001b[0m\u001b[1;33m)\u001b[0m\u001b[1;33m\u001b[0m\u001b[1;33m\u001b[0m\u001b[0m\n\u001b[0m",
      "\u001b[1;31mNameError\u001b[0m: name 'doc_program' is not defined"
     ]
    }
   ],
   "source": [
    "doc_program(\"Policies\")"
   ]
  },
  {
   "cell_type": "code",
   "execution_count": null,
   "metadata": {},
   "outputs": [],
   "source": []
  },
  {
   "cell_type": "code",
   "execution_count": null,
   "metadata": {},
   "outputs": [],
   "source": []
  }
 ],
 "metadata": {
  "kernelspec": {
   "display_name": "Python 3 (ipykernel)",
   "language": "python",
   "name": "python3"
  },
  "language_info": {
   "codemirror_mode": {
    "name": "ipython",
    "version": 3
   },
   "file_extension": ".py",
   "mimetype": "text/x-python",
   "name": "python",
   "nbconvert_exporter": "python",
   "pygments_lexer": "ipython3",
   "version": "3.9.13"
  }
 },
 "nbformat": 4,
 "nbformat_minor": 4
}
